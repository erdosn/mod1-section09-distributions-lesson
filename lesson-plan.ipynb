{
 "cells": [
  {
   "cell_type": "markdown",
   "metadata": {},
   "source": [
    "### Questions\n",
    "* what is e? \n",
    "* why are these equations the way they are?"
   ]
  },
  {
   "cell_type": "markdown",
   "metadata": {},
   "source": [
    "### Objectives\n",
    "YWBAT\n",
    "* describe when to use statistical distributions\n",
    "    * look at possible outcomes of situations regarding our data\n",
    "    * identifying outliers\n",
    "    * get familiar with the data\n",
    "    * visualizing is really powerful\n",
    "* define the parameters for each statistical distribution\n",
    "    * Normal Distributions\n",
    "        * parameters\n",
    "            * mean ($\\mu$)\n",
    "            * standard deviation ($\\sigma$)\n",
    "        * use cases\n",
    "            * almost always\n",
    "            * when measuring some sort of thing on a population\n",
    "    * Binomial Distributions\n",
    "        * parameters\n",
    "            * n -> number of outcomes (gaming)\n",
    "            * p -> probability of winning\n",
    "        * use cases\n",
    "            * the probability of an event happening k number of times in n number of trials where p is the probability of the event happening in one trial. \n",
    "    * Uniform distribution\n",
    "        * parameter(s)\n",
    "            * probability of a single event\n",
    "        * use case \n",
    "            * great starting point for finding optimal distributions on data\n",
    "    * Poisson distribution\n",
    "        * parameter\n",
    "            * lambda ($\\lambda$) - rate an event occurs over some interval (usually time)\n",
    "        * use case\n",
    "            * time series\n",
    "            * rates of occurences\n",
    "    * Exponential distribution\n",
    "        * parameters\n",
    "            * lambda ($\\lambda$)\n",
    "        * use cases\n",
    "            * rates of decay or growth\n",
    "            * GDP growth or decay over time can be described by lambda\n",
    "            * stock values\n",
    "            * populations\n",
    "        \n",
    "* describe PMF and CDF\n",
    "* describe the area under a distribution curve\n",
    "* interpret the normal density function and standard density equation (zscores)"
   ]
  },
  {
   "cell_type": "markdown",
   "metadata": {},
   "source": [
    "Things you need to know!!!\n",
    "- What a parameter is and how it affects a distribution\n",
    "- use cases"
   ]
  },
  {
   "cell_type": "markdown",
   "metadata": {},
   "source": [
    "### Intepreting equations"
   ]
  },
  {
   "cell_type": "markdown",
   "metadata": {},
   "source": [
    "![](images/npdf.png)\n",
    "\n",
    "decay based on distance from mean\n",
    "\n",
    "\n",
    "![](images/skew-kurt.png)\n",
    "![](images/zscore.gif)"
   ]
  },
  {
   "cell_type": "code",
   "execution_count": 3,
   "metadata": {},
   "outputs": [],
   "source": [
    "import numpy as np\n",
    "\n",
    "import matplotlib.pyplot as plt"
   ]
  },
  {
   "cell_type": "code",
   "execution_count": 16,
   "metadata": {},
   "outputs": [],
   "source": [
    "x = np.random.normal(0.5, 0.2, 1000)"
   ]
  },
  {
   "cell_type": "code",
   "execution_count": 17,
   "metadata": {},
   "outputs": [],
   "source": [
    "def npdf(x):\n",
    "    coeff = 1./(x.std() * np.sqrt(2*np.pi))\n",
    "    exp = -((x - x.mean())**2)/(2*(x.std()**2))\n",
    "    return coeff * np.exp(exp)"
   ]
  },
  {
   "cell_type": "code",
   "execution_count": 18,
   "metadata": {},
   "outputs": [],
   "source": [
    "y = np.random.normal(100, 10, 1000)"
   ]
  },
  {
   "cell_type": "code",
   "execution_count": 19,
   "metadata": {},
   "outputs": [
    {
     "data": {
      "text/plain": [
       "(array([ 23.,  46., 110., 171., 219., 199., 132.,  72.,  22.,   6.]),\n",
       " array([-0.01485968,  0.09748095,  0.20982159,  0.32216222,  0.43450285,\n",
       "         0.54684349,  0.65918412,  0.77152475,  0.88386539,  0.99620602,\n",
       "         1.10854665]),\n",
       " <a list of 10 Patch objects>)"
      ]
     },
     "execution_count": 19,
     "metadata": {},
     "output_type": "execute_result"
    },
    {
     "data": {
      "image/png": "[encoded data removed]",
      "text/plain": [
       "<matplotlib.figure.Figure at 0x1126ef898>"
      ]
     },
     "metadata": {},
     "output_type": "display_data"
    }
   ],
   "source": [
    "plt.hist(x)"
   ]
  },
  {
   "cell_type": "code",
   "execution_count": 20,
   "metadata": {},
   "outputs": [
    {
     "data": {
      "text/plain": [
       "(array([ 10.,  50., 101., 187., 245., 198., 137.,  50.,  18.,   4.]),\n",
       " array([ 70.65140712,  76.8695152 ,  83.08762327,  89.30573135,\n",
       "         95.52383942, 101.7419475 , 107.96005557, 114.17816365,\n",
       "        120.39627172, 126.6143798 , 132.83248787]),\n",
       " <a list of 10 Patch objects>)"
      ]
     },
     "execution_count": 20,
     "metadata": {},
     "output_type": "execute_result"
    },
    {
     "data": {
      "image/png": "[encoded data removed]",
      "text/plain": [
       "<matplotlib.figure.Figure at 0x112211b38>"
      ]
     },
     "metadata": {},
     "output_type": "display_data"
    }
   ],
   "source": [
    "plt.hist(y)"
   ]
  },
  {
   "cell_type": "code",
   "execution_count": 21,
   "metadata": {},
   "outputs": [],
   "source": [
    "def zscore(x):\n",
    "    return (x - x.mean())/x.std()"
   ]
  },
  {
   "cell_type": "code",
   "execution_count": 22,
   "metadata": {},
   "outputs": [],
   "source": [
    "z_x = zscore(x)\n",
    "z_y = zscore(y)"
   ]
  },
  {
   "cell_type": "code",
   "execution_count": 24,
   "metadata": {},
   "outputs": [
    {
     "data": {
      "image/png": "[encoded data removed]",
      "text/plain": [
       "<matplotlib.figure.Figure at 0x1129415c0>"
      ]
     },
     "metadata": {},
     "output_type": "display_data"
    }
   ],
   "source": [
    "plt.hist(z_x, color='b', alpha=0.5)\n",
    "plt.hist(z_y, color='r', alpha=0.5)\n",
    "plt.show()"
   ]
  },
  {
   "cell_type": "code",
   "execution_count": null,
   "metadata": {},
   "outputs": [],
   "source": []
  }
 ],
 "metadata": {
  "kernelspec": {
   "display_name": "Python 3",
   "language": "python",
   "name": "python3"
  },
  "language_info": {
   "codemirror_mode": {
    "name": "ipython",
    "version": 3
   },
   "file_extension": ".py",
   "mimetype": "text/x-python",
   "name": "python",
   "nbconvert_exporter": "python",
   "pygments_lexer": "ipython3",
   "version": "3.6.4"
  }
 },
 "nbformat": 4,
 "nbformat_minor": 2
}
